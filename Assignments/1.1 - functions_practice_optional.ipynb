{
 "cells": [
  {
   "cell_type": "code",
   "execution_count": 2,
   "metadata": {
    "collapsed": true
   },
   "outputs": [],
   "source": [
    "from math import *"
   ]
  },
  {
   "cell_type": "markdown",
   "metadata": {},
   "source": [
    "### Question 1 \n",
    "A Function that inputs a number to be multiplied, another number upto which it has to be multiplied and print the multiplication table of the former number"
   ]
  },
  {
   "cell_type": "code",
   "execution_count": 115,
   "metadata": {},
   "outputs": [
    {
     "name": "stdout",
     "output_type": "stream",
     "text": [
      "Enter the number to be multiplied: 17\n",
      "Enter till which number to be multiplied: 12\n",
      "17 x 1 = 17\n",
      "17 x 2 = 34\n",
      "17 x 3 = 51\n",
      "17 x 4 = 68\n",
      "17 x 5 = 85\n",
      "17 x 6 = 102\n",
      "17 x 7 = 119\n",
      "17 x 8 = 136\n",
      "17 x 9 = 153\n",
      "17 x 10 = 170\n",
      "17 x 11 = 187\n",
      "17 x 12 = 204\n"
     ]
    }
   ],
   "source": [
    "def multiplication_table():\n",
    "    '''\n",
    "    Prints Multiplication Table of first entered input until it reaches the multiple of second entered input.\n",
    "    '''\n",
    "    number = int(input('Enter the number to be multiplied: '))\n",
    "    threshold = int(input('Enter till which number to be multiplied: '))\n",
    "    for t in range(1, threshold + 1):\n",
    "        print(str(number) + ' x ' + str(t) + ' = ' + str(number * t))\n",
    "    return\n",
    "\n",
    "multiplication_table()"
   ]
  },
  {
   "cell_type": "markdown",
   "metadata": {},
   "source": [
    "A function to check whether a given number is prime or not "
   ]
  },
  {
   "cell_type": "code",
   "execution_count": 116,
   "metadata": {},
   "outputs": [],
   "source": [
    "def check_prime(num):\n",
    "    '''\n",
    "    Arg: A number to check if prime or not\n",
    "    Returns: True if prime and False otherwise\n",
    "    '''\n",
    "    if num > 1:\n",
    "        for i in range(2, ceil(sqrt(num)) + 1):\n",
    "            if num % i == 0 and i != num:\n",
    "                return False\n",
    "        return True\n",
    "    return False"
   ]
  },
  {
   "cell_type": "markdown",
   "metadata": {},
   "source": [
    "A function returning a list of all prime numbers below a particular number"
   ]
  },
  {
   "cell_type": "code",
   "execution_count": 117,
   "metadata": {},
   "outputs": [
    {
     "name": "stdout",
     "output_type": "stream",
     "text": [
      "[2, 3, 5, 7, 11, 13, 17, 19, 23, 29, 31, 37, 41, 43, 47, 53, 59, 61, 67, 71, 73, 79, 83, 89, 97, 101, 103, 107, 109, 113, 127, 131, 137, 139, 149, 151, 157, 163, 167, 173, 179, 181, 191, 193, 197, 199, 211, 223, 227, 229, 233, 239, 241, 251, 257, 263, 269, 271, 277, 281, 283, 293, 307, 311, 313, 317, 331, 337, 347, 349, 353, 359, 367, 373, 379, 383, 389, 397, 401, 409, 419, 421, 431, 433, 439, 443, 449, 457, 461, 463, 467, 479, 487, 491, 499, 503, 509, 521, 523, 541, 547, 557, 563, 569, 571, 577, 587, 593, 599, 601, 607, 613, 617, 619, 631, 641, 643, 647, 653, 659, 661, 673, 677, 683, 691, 701, 709, 719, 727, 733, 739, 743, 751, 757, 761, 769, 773, 787, 797, 809, 811, 821, 823, 827, 829, 839, 853, 857, 859, 863, 877, 881, 883, 887, 907, 911, 919, 929, 937, 941, 947, 953, 967, 971, 977, 983, 991, 997]\n"
     ]
    }
   ],
   "source": [
    "def list_all_primes(last_num):\n",
    "    '''\n",
    "    Arg: The number upto which prime numbers have to be returned.\n",
    "    Return: List of Primes less than the number passed as argument\n",
    "    '''\n",
    "    all_primes = []\n",
    "    for curr_num in range(last_num):\n",
    "        if check_prime(curr_num):\n",
    "            all_primes.append(curr_num)\n",
    "    return all_primes\n",
    "\n",
    "print(list_all_primes(1000))"
   ]
  },
  {
   "cell_type": "markdown",
   "metadata": {},
   "source": [
    "### Question 2\n",
    "A function that returns a list of tuples where each tuple is a pair if twin prime numbers less than a particular number (argument to the function)"
   ]
  },
  {
   "cell_type": "code",
   "execution_count": 118,
   "metadata": {},
   "outputs": [
    {
     "name": "stdout",
     "output_type": "stream",
     "text": [
      "[(3, 5), (5, 7), (11, 13), (17, 19), (29, 31), (41, 43), (59, 61), (71, 73), (101, 103), (107, 109), (137, 139), (149, 151), (179, 181), (191, 193), (197, 199), (227, 229), (239, 241), (269, 271), (281, 283), (311, 313), (347, 349), (419, 421), (431, 433), (461, 463), (521, 523), (569, 571), (599, 601), (617, 619), (641, 643), (659, 661), (809, 811), (821, 823), (827, 829), (857, 859), (881, 883)]\n"
     ]
    }
   ],
   "source": [
    "def list_all_twin_primes(last_num):\n",
    "    '''\n",
    "    Arg: The number upto which twin prime numbers have to be returned.\n",
    "    Return: List of Twin Primes as Tuples less than the number passed as argument\n",
    "    '''\n",
    "    all_primes = list_all_primes(last_num)\n",
    "    all_twin_primes = []\n",
    "    \n",
    "    for idx, each_num in enumerate(all_primes):\n",
    "        if idx > 0 and (all_primes[idx] - all_primes[idx - 1]) == 2:\n",
    "            all_twin_primes.append((all_primes[idx - 1], all_primes[idx]))\n",
    "    \n",
    "    return all_twin_primes\n",
    "\n",
    "print(list_all_twin_primes(1000))"
   ]
  },
  {
   "cell_type": "code",
   "execution_count": 37,
   "metadata": {},
   "outputs": [
    {
     "name": "stdout",
     "output_type": "stream",
     "text": [
      "[2, 2, 2, 7]\n"
     ]
    }
   ],
   "source": [
    "def list_all_prime_factors(num):\n",
    "    '''\n",
    "    Arg: \n",
    "    '''\n",
    "    if check_prime(num):\n",
    "        return [num]\n",
    "    \n",
    "    all_primes = list_all_primes(num)\n",
    "    all_prime_factors = []\n",
    "    \n",
    "    for each_prime in all_primes:\n",
    "        while num % each_prime == 0 and num > 1:\n",
    "            all_prime_factors.append(each_prime)\n",
    "            num /= each_prime\n",
    "            \n",
    "    return all_prime_factors\n",
    "\n",
    "print(list_all_prime_factors(56))"
   ]
  },
  {
   "cell_type": "code",
   "execution_count": 39,
   "metadata": {},
   "outputs": [
    {
     "data": {
      "text/plain": [
       "720"
      ]
     },
     "execution_count": 39,
     "metadata": {},
     "output_type": "execute_result"
    }
   ],
   "source": [
    "def factorial(num):\n",
    "    if num == 0 or num == 1:\n",
    "        return 1\n",
    "    return num * factorial(num - 1)\n",
    "\n",
    "factorial(6)"
   ]
  },
  {
   "cell_type": "code",
   "execution_count": 44,
   "metadata": {},
   "outputs": [
    {
     "data": {
      "text/plain": [
       "(20, 10)"
      ]
     },
     "execution_count": 44,
     "metadata": {},
     "output_type": "execute_result"
    }
   ],
   "source": [
    "def p_and_c(n, r):\n",
    "    p = int(factorial(n) / factorial(n - r))\n",
    "    c = int(p / factorial(r))\n",
    "    return p, c\n",
    "\n",
    "p_and_c(5, 2)"
   ]
  },
  {
   "cell_type": "code",
   "execution_count": 65,
   "metadata": {},
   "outputs": [
    {
     "data": {
      "text/plain": [
       "1010"
      ]
     },
     "execution_count": 65,
     "metadata": {},
     "output_type": "execute_result"
    }
   ],
   "source": [
    "def decimal_to_binary(num):\n",
    "    if num < 0:\n",
    "        return -1 * decimal_to_binary(abs(num))\n",
    "    \n",
    "    if num == 0:\n",
    "        return 0\n",
    "    \n",
    "    binary_reverse = ''\n",
    "    while(num):\n",
    "        binary_reverse += (str(num % 2))\n",
    "        num = int(num / 2)\n",
    "    return int(binary_reverse[::-1])\n",
    "\n",
    "decimal_to_binary(10)"
   ]
  },
  {
   "cell_type": "code",
   "execution_count": 70,
   "metadata": {},
   "outputs": [
    {
     "data": {
      "text/plain": [
       "371"
      ]
     },
     "execution_count": 70,
     "metadata": {},
     "output_type": "execute_result"
    }
   ],
   "source": [
    "def cubesum(num):\n",
    "    total_sum = 0\n",
    "    while(num):\n",
    "        total_sum += ((num % 10) ** 3)\n",
    "        num = int(num / 10)\n",
    "    return total_sum\n",
    "\n",
    "cubesum(371)"
   ]
  },
  {
   "cell_type": "code",
   "execution_count": 73,
   "metadata": {},
   "outputs": [
    {
     "name": "stdout",
     "output_type": "stream",
     "text": [
      "0\n",
      "1\n",
      "153\n",
      "370\n",
      "371\n",
      "407\n"
     ]
    }
   ],
   "source": [
    "def ifArmstrong(num):\n",
    "    return num == cubesum(num)\n",
    "\n",
    "def printArmstrong(num):\n",
    "    for i in range(num):\n",
    "        if ifArmstrong(i):\n",
    "            print(i)\n",
    "    return\n",
    "\n",
    "printArmstrong(1000)"
   ]
  },
  {
   "cell_type": "code",
   "execution_count": 76,
   "metadata": {},
   "outputs": [
    {
     "data": {
      "text/plain": [
       "1024"
      ]
     },
     "execution_count": 76,
     "metadata": {},
     "output_type": "execute_result"
    }
   ],
   "source": [
    "def prodDigits(num):\n",
    "    product = 1\n",
    "    while(num):\n",
    "        product *= (num % 10)\n",
    "        num //= 10\n",
    "    return product\n",
    "\n",
    "prodDigits(8882)"
   ]
  },
  {
   "cell_type": "code",
   "execution_count": 88,
   "metadata": {},
   "outputs": [
    {
     "data": {
      "text/plain": [
       "2"
      ]
     },
     "execution_count": 88,
     "metadata": {},
     "output_type": "execute_result"
    }
   ],
   "source": [
    "def MDR(num):\n",
    "    while (num > 9):\n",
    "        num = prodDigits(num)\n",
    "    return num\n",
    "\n",
    "MDR(126)"
   ]
  },
  {
   "cell_type": "code",
   "execution_count": 90,
   "metadata": {},
   "outputs": [
    {
     "data": {
      "text/plain": [
       "2"
      ]
     },
     "execution_count": 90,
     "metadata": {},
     "output_type": "execute_result"
    }
   ],
   "source": [
    "def MPersistence(num):\n",
    "    mp = 0\n",
    "    while (num > 9):\n",
    "        num = prodDigits(num)\n",
    "        mp += 1\n",
    "    return mp\n",
    "\n",
    "MPersistence(341)"
   ]
  },
  {
   "cell_type": "code",
   "execution_count": 99,
   "metadata": {},
   "outputs": [
    {
     "data": {
      "text/plain": [
       "1"
      ]
     },
     "execution_count": 99,
     "metadata": {},
     "output_type": "execute_result"
    }
   ],
   "source": [
    "def sumPdivisors(num):\n",
    "    if num == 0:\n",
    "        return 0\n",
    "    \n",
    "    total = 1\n",
    "    for i in range(2, ceil(sqrt(num)) + 1):\n",
    "        if num % i == 0:\n",
    "            total += i\n",
    "            if num / i != i:\n",
    "                total += int(num / i)\n",
    "    return total\n",
    "\n",
    "sumPdivisors(1)"
   ]
  },
  {
   "cell_type": "code",
   "execution_count": 101,
   "metadata": {},
   "outputs": [
    {
     "data": {
      "text/plain": [
       "[1, 28]"
      ]
     },
     "execution_count": 101,
     "metadata": {},
     "output_type": "execute_result"
    }
   ],
   "source": [
    "def list_perfect_numbers(num):\n",
    "    all_perfects = []\n",
    "    for curr_num in range(1, num):\n",
    "        if curr_num == sumPdivisors(curr_num):\n",
    "            all_perfects.append(curr_num)\n",
    "        \n",
    "    return all_perfects\n",
    "\n",
    "list_perfect_numbers(100)"
   ]
  },
  {
   "cell_type": "code",
   "execution_count": 106,
   "metadata": {},
   "outputs": [
    {
     "name": "stdout",
     "output_type": "stream",
     "text": [
      "[(220, 284)]\n"
     ]
    }
   ],
   "source": [
    "def list_amicable_numbers(num):\n",
    "    all_amicable = []\n",
    "    visited_dict = {each_num: False for each_num in range(1, num)}\n",
    "    \n",
    "    for curr_num in range(1, num):\n",
    "        pair_num = sumPdivisors(curr_num)\n",
    "        if not visited_dict[curr_num] and pair_num < num and sumPdivisors(pair_num) == curr_num and pair_num != curr_num:\n",
    "            all_amicable.append((curr_num, pair_num))\n",
    "            visited_dict[curr_num] = True; visited_dict[pair_num] = True\n",
    "    return all_amicable\n",
    "\n",
    "print(list_amicable_numbers(1000))"
   ]
  },
  {
   "cell_type": "code",
   "execution_count": 109,
   "metadata": {},
   "outputs": [
    {
     "name": "stdout",
     "output_type": "stream",
     "text": [
      "[0, 2, 4, 6, 8, 10, 12, 14, 16, 18, 20, 22, 24, 26, 28, 30, 32, 34, 36, 38, 40, 42, 44, 46, 48, 50, 52, 54, 56, 58, 60, 62, 64, 66, 68, 70, 72, 74, 76, 78, 80, 82, 84, 86, 88, 90, 92, 94, 96, 98, 100]\n"
     ]
    }
   ],
   "source": [
    "def filter_odd_numbers(complete_list):\n",
    "    return list(filter(lambda x: x % 2 == 0, complete_list))\n",
    "\n",
    "print(filter_odd_numbers(list(range(101))))"
   ]
  },
  {
   "cell_type": "code",
   "execution_count": 111,
   "metadata": {},
   "outputs": [
    {
     "name": "stdout",
     "output_type": "stream",
     "text": [
      "[0, 1, 8, 27, 64, 125, 216, 343, 512, 729, 1000]\n"
     ]
    }
   ],
   "source": [
    "def map_cubes(complete_list):\n",
    "    return list(map(lambda x: x ** 3, complete_list))\n",
    "\n",
    "print(map_cubes(list(range(11))))"
   ]
  },
  {
   "cell_type": "code",
   "execution_count": 113,
   "metadata": {},
   "outputs": [
    {
     "name": "stdout",
     "output_type": "stream",
     "text": [
      "[0, 8, 64, 216, 512, 1000]\n"
     ]
    }
   ],
   "source": [
    "def map_cubes_filter_odds(complete_list):\n",
    "    #return map_cubes(filter_odd_numbers(complete_list))\n",
    "    return list(map(lambda x: x ** 3, list(filter(lambda x: x % 2 == 0, complete_list))))\n",
    "\n",
    "print(map_cubes_filter_odds(range(11)))"
   ]
  },
  {
   "cell_type": "code",
   "execution_count": null,
   "metadata": {
    "collapsed": true
   },
   "outputs": [],
   "source": []
  }
 ],
 "metadata": {
  "kernelspec": {
   "display_name": "Python 3",
   "language": "python",
   "name": "python3"
  },
  "language_info": {
   "codemirror_mode": {
    "name": "ipython",
    "version": 3
   },
   "file_extension": ".py",
   "mimetype": "text/x-python",
   "name": "python",
   "nbconvert_exporter": "python",
   "pygments_lexer": "ipython3",
   "version": "3.6.2"
  }
 },
 "nbformat": 4,
 "nbformat_minor": 2
}
